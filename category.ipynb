{
 "cells": [
  {
   "cell_type": "code",
   "execution_count": null,
   "id": "initial_id",
   "metadata": {
    "collapsed": true
   },
   "outputs": [],
   "source": []
  },
  {
   "cell_type": "code",
   "execution_count": 8,
   "outputs": [],
   "source": [
    "import requests\n",
    "from bs4 import BeautifulSoup as bs\n",
    "from urllib.request import urlopen\n",
    "from lxml import etree\n",
    "import csv"
   ],
   "metadata": {
    "collapsed": false,
    "ExecuteTime": {
     "end_time": "2024-03-06T14:38:26.005390700Z",
     "start_time": "2024-03-06T14:38:25.037467100Z"
    }
   },
   "id": "abe120a4d3ac2759"
  },
  {
   "cell_type": "code",
   "execution_count": 9,
   "outputs": [],
   "source": [
    "headers = {\n",
    "    'User-Agent': 'Mozilla/5.0 (Windows NT 10.0; Win64; x64) '\n",
    "                  'AppleWebKit/537.36 (KHTML, like Gecko) Chrome/81.0.4044.138 Safari/537.36'\n",
    "}"
   ],
   "metadata": {
    "collapsed": false,
    "ExecuteTime": {
     "end_time": "2024-03-06T14:38:35.370051300Z",
     "start_time": "2024-03-06T14:38:35.348054800Z"
    }
   },
   "id": "76181d53cb106aa4"
  },
  {
   "cell_type": "code",
   "execution_count": 12,
   "outputs": [],
   "source": [
    "response = requests.get('https://www.videx.com', headers=headers)"
   ],
   "metadata": {
    "collapsed": false,
    "ExecuteTime": {
     "end_time": "2024-03-06T14:39:49.030142900Z",
     "start_time": "2024-03-06T14:39:47.140035200Z"
    }
   },
   "id": "1b1f00871430ab86"
  },
  {
   "cell_type": "code",
   "execution_count": 13,
   "outputs": [],
   "source": [
    "# response.status_code"
   ],
   "metadata": {
    "collapsed": false,
    "ExecuteTime": {
     "end_time": "2024-03-06T14:40:00.424858500Z",
     "start_time": "2024-03-06T14:40:00.406858500Z"
    }
   },
   "id": "ecadcc81fc9f7838"
  },
  {
   "cell_type": "code",
   "execution_count": 11,
   "outputs": [],
   "source": [
    "html = response.text"
   ],
   "metadata": {
    "collapsed": false,
    "ExecuteTime": {
     "end_time": "2024-03-06T14:39:02.765119300Z",
     "start_time": "2024-03-06T14:39:02.749122Z"
    }
   },
   "id": "925e7515d5d59ac"
  },
  {
   "cell_type": "code",
   "execution_count": null,
   "outputs": [],
   "source": [
    "soup = bs(html, \"html.parser\")"
   ],
   "metadata": {
    "collapsed": false
   },
   "id": "54830c854df77df2"
  },
  {
   "cell_type": "code",
   "execution_count": null,
   "outputs": [],
   "source": [
    "dom = etree.HTML(str(soup))"
   ],
   "metadata": {
    "collapsed": false
   },
   "id": "f7b36522d1109af5"
  },
  {
   "cell_type": "code",
   "execution_count": null,
   "outputs": [],
   "source": [
    "categories_up_level = dom.xpath(\"//header//li[@class='category_item has_child']/a/span\")"
   ],
   "metadata": {
    "collapsed": false
   },
   "id": "1649277efb3750e"
  },
  {
   "cell_type": "code",
   "execution_count": null,
   "outputs": [],
   "source": [
    "cat_up_level = []"
   ],
   "metadata": {
    "collapsed": false
   },
   "id": "fe264cc935d879de"
  },
  {
   "cell_type": "code",
   "execution_count": null,
   "outputs": [],
   "source": [
    "for category in categories_up_level:\n",
    "    category = category.text\n",
    "    cat_up_level.append(category)"
   ],
   "metadata": {
    "collapsed": false
   },
   "id": "347b5cdb98d5843c"
  },
  {
   "cell_type": "code",
   "execution_count": null,
   "outputs": [],
   "source": [
    "sub_categories = dom.xpath(f\"//header//div[@class='categories']//\"\n",
    "                           f\"ul[contains(@class, 'level_2')]\")"
   ],
   "metadata": {
    "collapsed": false
   },
   "id": "97bd271ef7b8e003"
  },
  {
   "cell_type": "code",
   "execution_count": null,
   "outputs": [],
   "source": [
    "sub_cat = []\n",
    "for sub_category in sub_categories:\n",
    "    sub_category = sub_category.xpath(\".//li[@class='categories_menu__item']/a/span/text()\")\n",
    "    sub_cat.append(sub_category)"
   ],
   "metadata": {
    "collapsed": false
   },
   "id": "b209e730674635aa"
  },
  {
   "cell_type": "code",
   "execution_count": null,
   "outputs": [],
   "source": [
    "category = [{key: value} for key, value in zip(cat_up_level, sub_cat)]"
   ],
   "metadata": {
    "collapsed": false
   },
   "id": "47b60951da199bb"
  },
  {
   "cell_type": "markdown",
   "source": [
    "# Путь к файлу CSV"
   ],
   "metadata": {
    "collapsed": false
   },
   "id": "526b97fc7fa17dc5"
  },
  {
   "cell_type": "code",
   "execution_count": null,
   "outputs": [],
   "source": [
    "csv_file_path = 'category.csv'"
   ],
   "metadata": {
    "collapsed": false
   },
   "id": "4c900cb2bad5f50"
  },
  {
   "cell_type": "code",
   "execution_count": 16,
   "outputs": [
    {
     "ename": "NameError",
     "evalue": "name 'category' is not defined",
     "output_type": "error",
     "traceback": [
      "\u001B[1;31m---------------------------------------------------------------------------\u001B[0m",
      "\u001B[1;31mNameError\u001B[0m                                 Traceback (most recent call last)",
      "\u001B[1;32m~\\AppData\\Local\\Temp\\ipykernel_12644\\1472677499.py\u001B[0m in \u001B[0;36m<module>\u001B[1;34m\u001B[0m\n\u001B[0;32m      1\u001B[0m \u001B[0mheaders\u001B[0m \u001B[1;33m=\u001B[0m \u001B[0mset\u001B[0m\u001B[1;33m(\u001B[0m\u001B[1;33m)\u001B[0m\u001B[1;33m\u001B[0m\u001B[0m\n\u001B[1;32m----> 2\u001B[1;33m \u001B[1;32mfor\u001B[0m \u001B[0mitem\u001B[0m \u001B[1;32min\u001B[0m \u001B[0mcategory\u001B[0m\u001B[1;33m:\u001B[0m\u001B[1;33m\u001B[0m\u001B[0m\n\u001B[0m\u001B[0;32m      3\u001B[0m     \u001B[0mheaders\u001B[0m\u001B[1;33m.\u001B[0m\u001B[0mupdate\u001B[0m\u001B[1;33m(\u001B[0m\u001B[0mitem\u001B[0m\u001B[1;33m.\u001B[0m\u001B[0mkeys\u001B[0m\u001B[1;33m(\u001B[0m\u001B[1;33m)\u001B[0m\u001B[1;33m)\u001B[0m\u001B[1;33m\u001B[0m\u001B[0m\n",
      "\u001B[1;31mNameError\u001B[0m: name 'category' is not defined"
     ]
    }
   ],
   "source": [
    "headers = set()\n",
    "for item in category:\n",
    "    headers.update(item.keys())"
   ],
   "metadata": {
    "collapsed": false,
    "ExecuteTime": {
     "end_time": "2024-03-06T14:44:41.647967600Z",
     "start_time": "2024-03-06T14:44:41.602868100Z"
    }
   },
   "id": "8c4b41d61c55cbad"
  },
  {
   "cell_type": "code",
   "execution_count": 15,
   "outputs": [
    {
     "data": {
      "text/plain": "{'User-Agent': 'Mozilla/5.0 (Windows NT 10.0; Win64; x64) AppleWebKit/537.36 (KHTML, like Gecko) Chrome/81.0.4044.138 Safari/537.36'}"
     },
     "execution_count": 15,
     "metadata": {},
     "output_type": "execute_result"
    }
   ],
   "source": [
    "headers"
   ],
   "metadata": {
    "collapsed": false,
    "ExecuteTime": {
     "end_time": "2024-03-06T14:44:38.091603200Z",
     "start_time": "2024-03-06T14:44:38.066603600Z"
    }
   },
   "id": "2841e649a8319158"
  },
  {
   "cell_type": "code",
   "execution_count": 14,
   "outputs": [],
   "source": [],
   "metadata": {
    "collapsed": false,
    "ExecuteTime": {
     "end_time": "2024-03-06T14:44:33.616670200Z",
     "start_time": "2024-03-06T14:44:33.608669700Z"
    }
   },
   "id": "93ca413444ae773c"
  },
  {
   "cell_type": "code",
   "execution_count": 16,
   "outputs": [],
   "source": [],
   "metadata": {
    "collapsed": false,
    "ExecuteTime": {
     "end_time": "2024-03-06T14:44:50.586558500Z",
     "start_time": "2024-03-06T14:44:50.563558500Z"
    }
   },
   "id": "eec10729732ad0d6"
  },
  {
   "cell_type": "code",
   "execution_count": null,
   "outputs": [],
   "source": [],
   "metadata": {
    "collapsed": false
   },
   "id": "8b1f016c8d9523c9"
  }
 ],
 "metadata": {
  "kernelspec": {
   "display_name": "Python 3",
   "language": "python",
   "name": "python3"
  },
  "language_info": {
   "codemirror_mode": {
    "name": "ipython",
    "version": 2
   },
   "file_extension": ".py",
   "mimetype": "text/x-python",
   "name": "python",
   "nbconvert_exporter": "python",
   "pygments_lexer": "ipython2",
   "version": "2.7.6"
  }
 },
 "nbformat": 4,
 "nbformat_minor": 5
}
